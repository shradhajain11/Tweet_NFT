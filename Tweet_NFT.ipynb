{
 "cells": [
  {
   "cell_type": "code",
   "execution_count": 1,
   "id": "eaea2eaa",
   "metadata": {},
   "outputs": [],
   "source": [
    "import numpy as np # linear algebra\n",
    "import pandas as pd"
   ]
  },
  {
   "cell_type": "code",
   "execution_count": 2,
   "id": "4ed522d7",
   "metadata": {},
   "outputs": [],
   "source": [
    "import warnings\n",
    "warnings.filterwarnings(\"ignore\") #To ignore warnings to get clean output\n",
    "import pandas as pd\n",
    "import matplotlib.pyplot as plt"
   ]
  },
  {
   "cell_type": "code",
   "execution_count": 3,
   "id": "74b7c9cf",
   "metadata": {},
   "outputs": [
    {
     "name": "stdout",
     "output_type": "stream",
     "text": [
      "127453\n"
     ]
    },
    {
     "data": {
      "text/html": [
       "<div>\n",
       "<style scoped>\n",
       "    .dataframe tbody tr th:only-of-type {\n",
       "        vertical-align: middle;\n",
       "    }\n",
       "\n",
       "    .dataframe tbody tr th {\n",
       "        vertical-align: top;\n",
       "    }\n",
       "\n",
       "    .dataframe thead th {\n",
       "        text-align: right;\n",
       "    }\n",
       "</style>\n",
       "<table border=\"1\" class=\"dataframe\">\n",
       "  <thead>\n",
       "    <tr style=\"text-align: right;\">\n",
       "      <th></th>\n",
       "      <th>id</th>\n",
       "      <th>tweet_text</th>\n",
       "      <th>tweet_created_at</th>\n",
       "      <th>tweet_intent</th>\n",
       "    </tr>\n",
       "  </thead>\n",
       "  <tbody>\n",
       "    <tr>\n",
       "      <th>0</th>\n",
       "      <td>1212762</td>\n",
       "      <td>@crypto_brody @eCoLoGy1990 @MoonrunnersNFT @It...</td>\n",
       "      <td>2022-08-06T16:56:36.000Z</td>\n",
       "      <td>Community</td>\n",
       "    </tr>\n",
       "    <tr>\n",
       "      <th>1</th>\n",
       "      <td>1212763</td>\n",
       "      <td>Need Sick Character artâ“#art #artist #Artist...</td>\n",
       "      <td>2022-08-06T16:56:36.000Z</td>\n",
       "      <td>Giveaway</td>\n",
       "    </tr>\n",
       "    <tr>\n",
       "      <th>2</th>\n",
       "      <td>1212765</td>\n",
       "      <td>@The_Hulk_NFT @INagotchiNFT @Tesla @killabears...</td>\n",
       "      <td>2022-08-06T16:56:35.000Z</td>\n",
       "      <td>Appreciation</td>\n",
       "    </tr>\n",
       "    <tr>\n",
       "      <th>3</th>\n",
       "      <td>1212766</td>\n",
       "      <td>@CryptoBatzNFT @DarekBTW The first project in ...</td>\n",
       "      <td>2022-08-06T16:56:35.000Z</td>\n",
       "      <td>Community</td>\n",
       "    </tr>\n",
       "    <tr>\n",
       "      <th>4</th>\n",
       "      <td>1212767</td>\n",
       "      <td>@sashadysonn The first project in crypto with ...</td>\n",
       "      <td>2022-08-06T16:56:34.000Z</td>\n",
       "      <td>Community</td>\n",
       "    </tr>\n",
       "  </tbody>\n",
       "</table>\n",
       "</div>"
      ],
      "text/plain": [
       "        id                                         tweet_text  \\\n",
       "0  1212762  @crypto_brody @eCoLoGy1990 @MoonrunnersNFT @It...   \n",
       "1  1212763  Need Sick Character artâ“#art #artist #Artist...   \n",
       "2  1212765  @The_Hulk_NFT @INagotchiNFT @Tesla @killabears...   \n",
       "3  1212766  @CryptoBatzNFT @DarekBTW The first project in ...   \n",
       "4  1212767  @sashadysonn The first project in crypto with ...   \n",
       "\n",
       "           tweet_created_at  tweet_intent  \n",
       "0  2022-08-06T16:56:36.000Z     Community  \n",
       "1  2022-08-06T16:56:36.000Z      Giveaway  \n",
       "2  2022-08-06T16:56:35.000Z  Appreciation  \n",
       "3  2022-08-06T16:56:35.000Z     Community  \n",
       "4  2022-08-06T16:56:34.000Z     Community  "
      ]
     },
     "execution_count": 3,
     "metadata": {},
     "output_type": "execute_result"
    }
   ],
   "source": [
    "data=pd.read_csv('Tweet_NFT.xlsx - Sheet1.csv')\n",
    "print(len(data))#total number of entries\n",
    "data.head()"
   ]
  },
  {
   "cell_type": "code",
   "execution_count": 4,
   "id": "b75a391b",
   "metadata": {},
   "outputs": [
    {
     "data": {
      "text/plain": [
       "id                      0\n",
       "tweet_text              0\n",
       "tweet_created_at        0\n",
       "tweet_intent        31089\n",
       "dtype: int64"
      ]
     },
     "execution_count": 4,
     "metadata": {},
     "output_type": "execute_result"
    }
   ],
   "source": [
    "data.isnull().sum()"
   ]
  },
  {
   "cell_type": "code",
   "execution_count": 5,
   "id": "6b0f83d5",
   "metadata": {},
   "outputs": [
    {
     "data": {
      "text/html": [
       "<div>\n",
       "<style scoped>\n",
       "    .dataframe tbody tr th:only-of-type {\n",
       "        vertical-align: middle;\n",
       "    }\n",
       "\n",
       "    .dataframe tbody tr th {\n",
       "        vertical-align: top;\n",
       "    }\n",
       "\n",
       "    .dataframe thead th {\n",
       "        text-align: right;\n",
       "    }\n",
       "</style>\n",
       "<table border=\"1\" class=\"dataframe\">\n",
       "  <thead>\n",
       "    <tr style=\"text-align: right;\">\n",
       "      <th></th>\n",
       "      <th>id</th>\n",
       "      <th>tweet_text</th>\n",
       "      <th>tweet_created_at</th>\n",
       "      <th>tweet_intent</th>\n",
       "    </tr>\n",
       "  </thead>\n",
       "  <tbody>\n",
       "    <tr>\n",
       "      <th>0</th>\n",
       "      <td>1212762</td>\n",
       "      <td>@crypto_brody @eCoLoGy1990 @MoonrunnersNFT @It...</td>\n",
       "      <td>2022-08-06T16:56:36.000Z</td>\n",
       "      <td>Community</td>\n",
       "    </tr>\n",
       "    <tr>\n",
       "      <th>1</th>\n",
       "      <td>1212763</td>\n",
       "      <td>Need Sick Character artâ“#art #artist #Artist...</td>\n",
       "      <td>2022-08-06T16:56:36.000Z</td>\n",
       "      <td>Giveaway</td>\n",
       "    </tr>\n",
       "    <tr>\n",
       "      <th>2</th>\n",
       "      <td>1212765</td>\n",
       "      <td>@The_Hulk_NFT @INagotchiNFT @Tesla @killabears...</td>\n",
       "      <td>2022-08-06T16:56:35.000Z</td>\n",
       "      <td>Appreciation</td>\n",
       "    </tr>\n",
       "    <tr>\n",
       "      <th>3</th>\n",
       "      <td>1212766</td>\n",
       "      <td>@CryptoBatzNFT @DarekBTW The first project in ...</td>\n",
       "      <td>2022-08-06T16:56:35.000Z</td>\n",
       "      <td>Community</td>\n",
       "    </tr>\n",
       "    <tr>\n",
       "      <th>4</th>\n",
       "      <td>1212767</td>\n",
       "      <td>@sashadysonn The first project in crypto with ...</td>\n",
       "      <td>2022-08-06T16:56:34.000Z</td>\n",
       "      <td>Community</td>\n",
       "    </tr>\n",
       "    <tr>\n",
       "      <th>...</th>\n",
       "      <td>...</td>\n",
       "      <td>...</td>\n",
       "      <td>...</td>\n",
       "      <td>...</td>\n",
       "    </tr>\n",
       "    <tr>\n",
       "      <th>96359</th>\n",
       "      <td>1424490</td>\n",
       "      <td>@nft_cryptogang @liuyan93721534 0x9fE808D8a9E2...</td>\n",
       "      <td>2022-08-11T23:11:58.000Z</td>\n",
       "      <td>Appreciation</td>\n",
       "    </tr>\n",
       "    <tr>\n",
       "      <th>96360</th>\n",
       "      <td>1424491</td>\n",
       "      <td>Just registered to win @cryptopunksnfts #1859 ...</td>\n",
       "      <td>2022-08-11T23:11:58.000Z</td>\n",
       "      <td>Presale</td>\n",
       "    </tr>\n",
       "    <tr>\n",
       "      <th>96361</th>\n",
       "      <td>1424494</td>\n",
       "      <td>@SolSniffer Dyor on the nft collection \"Dictat...</td>\n",
       "      <td>2022-08-11T23:11:58.000Z</td>\n",
       "      <td>Appreciation</td>\n",
       "    </tr>\n",
       "    <tr>\n",
       "      <th>96362</th>\n",
       "      <td>1424497</td>\n",
       "      <td>#NFT #NFTCommmunity #DeltaFlare\\nJoin me on Di...</td>\n",
       "      <td>2022-08-11T23:11:56.000Z</td>\n",
       "      <td>Community</td>\n",
       "    </tr>\n",
       "    <tr>\n",
       "      <th>96363</th>\n",
       "      <td>1424498</td>\n",
       "      <td>@DuckBathing @diozoth @elonmusk @richerd @John...</td>\n",
       "      <td>2022-08-11T23:11:56.000Z</td>\n",
       "      <td>Appreciation</td>\n",
       "    </tr>\n",
       "  </tbody>\n",
       "</table>\n",
       "<p>96364 rows × 4 columns</p>\n",
       "</div>"
      ],
      "text/plain": [
       "            id                                         tweet_text  \\\n",
       "0      1212762  @crypto_brody @eCoLoGy1990 @MoonrunnersNFT @It...   \n",
       "1      1212763  Need Sick Character artâ“#art #artist #Artist...   \n",
       "2      1212765  @The_Hulk_NFT @INagotchiNFT @Tesla @killabears...   \n",
       "3      1212766  @CryptoBatzNFT @DarekBTW The first project in ...   \n",
       "4      1212767  @sashadysonn The first project in crypto with ...   \n",
       "...        ...                                                ...   \n",
       "96359  1424490  @nft_cryptogang @liuyan93721534 0x9fE808D8a9E2...   \n",
       "96360  1424491  Just registered to win @cryptopunksnfts #1859 ...   \n",
       "96361  1424494  @SolSniffer Dyor on the nft collection \"Dictat...   \n",
       "96362  1424497  #NFT #NFTCommmunity #DeltaFlare\\nJoin me on Di...   \n",
       "96363  1424498  @DuckBathing @diozoth @elonmusk @richerd @John...   \n",
       "\n",
       "               tweet_created_at  tweet_intent  \n",
       "0      2022-08-06T16:56:36.000Z     Community  \n",
       "1      2022-08-06T16:56:36.000Z      Giveaway  \n",
       "2      2022-08-06T16:56:35.000Z  Appreciation  \n",
       "3      2022-08-06T16:56:35.000Z     Community  \n",
       "4      2022-08-06T16:56:34.000Z     Community  \n",
       "...                         ...           ...  \n",
       "96359  2022-08-11T23:11:58.000Z  Appreciation  \n",
       "96360  2022-08-11T23:11:58.000Z       Presale  \n",
       "96361  2022-08-11T23:11:58.000Z  Appreciation  \n",
       "96362  2022-08-11T23:11:56.000Z     Community  \n",
       "96363  2022-08-11T23:11:56.000Z  Appreciation  \n",
       "\n",
       "[96364 rows x 4 columns]"
      ]
     },
     "execution_count": 5,
     "metadata": {},
     "output_type": "execute_result"
    }
   ],
   "source": [
    "data.dropna()"
   ]
  },
  {
   "cell_type": "code",
   "execution_count": 6,
   "id": "c03b864f",
   "metadata": {},
   "outputs": [
    {
     "name": "stdout",
     "output_type": "stream",
     "text": [
      "            id                                         tweet_text  \\\n",
      "0      1212762  @crypto_brody @eCoLoGy1990 @MoonrunnersNFT @It...   \n",
      "1      1212763  Need Sick Character artâ“#art #artist #Artist...   \n",
      "2      1212765  @The_Hulk_NFT @INagotchiNFT @Tesla @killabears...   \n",
      "3      1212766  @CryptoBatzNFT @DarekBTW The first project in ...   \n",
      "4      1212767  @sashadysonn The first project in crypto with ...   \n",
      "...        ...                                                ...   \n",
      "96359  1424490  @nft_cryptogang @liuyan93721534 0x9fE808D8a9E2...   \n",
      "96360  1424491  Just registered to win @cryptopunksnfts #1859 ...   \n",
      "96361  1424494  @SolSniffer Dyor on the nft collection \"Dictat...   \n",
      "96362  1424497  #NFT #NFTCommmunity #DeltaFlare\\nJoin me on Di...   \n",
      "96363  1424498  @DuckBathing @diozoth @elonmusk @richerd @John...   \n",
      "\n",
      "               tweet_created_at  tweet_intent  \n",
      "0      2022-08-06T16:56:36.000Z     Community  \n",
      "1      2022-08-06T16:56:36.000Z      Giveaway  \n",
      "2      2022-08-06T16:56:35.000Z  Appreciation  \n",
      "3      2022-08-06T16:56:35.000Z     Community  \n",
      "4      2022-08-06T16:56:34.000Z     Community  \n",
      "...                         ...           ...  \n",
      "96359  2022-08-11T23:11:58.000Z  Appreciation  \n",
      "96360  2022-08-11T23:11:58.000Z       Presale  \n",
      "96361  2022-08-11T23:11:58.000Z  Appreciation  \n",
      "96362  2022-08-11T23:11:56.000Z     Community  \n",
      "96363  2022-08-11T23:11:56.000Z  Appreciation  \n",
      "\n",
      "[96364 rows x 4 columns]\n"
     ]
    }
   ],
   "source": [
    "data =data.dropna()  #saving new data \n",
    "print(data)"
   ]
  },
  {
   "cell_type": "code",
   "execution_count": 7,
   "id": "b1bbd875",
   "metadata": {},
   "outputs": [
    {
     "data": {
      "text/plain": [
       "Community         41510\n",
       "Giveaway          21041\n",
       "Appreciation      16451\n",
       "Whitelist          8320\n",
       "Presale            5107\n",
       "Done               3049\n",
       "pinksale            477\n",
       "Interested          276\n",
       "Launching Soon      133\n",
       "Name: tweet_intent, dtype: int64"
      ]
     },
     "execution_count": 7,
     "metadata": {},
     "output_type": "execute_result"
    }
   ],
   "source": [
    "data.tweet_intent.value_counts()"
   ]
  },
  {
   "cell_type": "code",
   "execution_count": 8,
   "id": "e28c7b7e",
   "metadata": {},
   "outputs": [
    {
     "data": {
      "text/html": [
       "<div>\n",
       "<style scoped>\n",
       "    .dataframe tbody tr th:only-of-type {\n",
       "        vertical-align: middle;\n",
       "    }\n",
       "\n",
       "    .dataframe tbody tr th {\n",
       "        vertical-align: top;\n",
       "    }\n",
       "\n",
       "    .dataframe thead th {\n",
       "        text-align: right;\n",
       "    }\n",
       "</style>\n",
       "<table border=\"1\" class=\"dataframe\">\n",
       "  <thead>\n",
       "    <tr style=\"text-align: right;\">\n",
       "      <th></th>\n",
       "      <th>id</th>\n",
       "      <th>tweet_text</th>\n",
       "      <th>tweet_created_at</th>\n",
       "      <th>tweet_intent</th>\n",
       "    </tr>\n",
       "  </thead>\n",
       "  <tbody>\n",
       "    <tr>\n",
       "      <th>0</th>\n",
       "      <td>1212762</td>\n",
       "      <td>@crypto_brody @eCoLoGy1990 @MoonrunnersNFT @It...</td>\n",
       "      <td>2022-08-06T16:56:36.000Z</td>\n",
       "      <td>Community</td>\n",
       "    </tr>\n",
       "    <tr>\n",
       "      <th>1</th>\n",
       "      <td>1212763</td>\n",
       "      <td>Need Sick Character artâ“#art #artist #Artist...</td>\n",
       "      <td>2022-08-06T16:56:36.000Z</td>\n",
       "      <td>Giveaway</td>\n",
       "    </tr>\n",
       "    <tr>\n",
       "      <th>2</th>\n",
       "      <td>1212765</td>\n",
       "      <td>@The_Hulk_NFT @INagotchiNFT @Tesla @killabears...</td>\n",
       "      <td>2022-08-06T16:56:35.000Z</td>\n",
       "      <td>Appreciation</td>\n",
       "    </tr>\n",
       "    <tr>\n",
       "      <th>3</th>\n",
       "      <td>1212766</td>\n",
       "      <td>@CryptoBatzNFT @DarekBTW The first project in ...</td>\n",
       "      <td>2022-08-06T16:56:35.000Z</td>\n",
       "      <td>Community</td>\n",
       "    </tr>\n",
       "    <tr>\n",
       "      <th>4</th>\n",
       "      <td>1212767</td>\n",
       "      <td>@sashadysonn The first project in crypto with ...</td>\n",
       "      <td>2022-08-06T16:56:34.000Z</td>\n",
       "      <td>Community</td>\n",
       "    </tr>\n",
       "  </tbody>\n",
       "</table>\n",
       "</div>"
      ],
      "text/plain": [
       "        id                                         tweet_text  \\\n",
       "0  1212762  @crypto_brody @eCoLoGy1990 @MoonrunnersNFT @It...   \n",
       "1  1212763  Need Sick Character artâ“#art #artist #Artist...   \n",
       "2  1212765  @The_Hulk_NFT @INagotchiNFT @Tesla @killabears...   \n",
       "3  1212766  @CryptoBatzNFT @DarekBTW The first project in ...   \n",
       "4  1212767  @sashadysonn The first project in crypto with ...   \n",
       "\n",
       "           tweet_created_at  tweet_intent  \n",
       "0  2022-08-06T16:56:36.000Z     Community  \n",
       "1  2022-08-06T16:56:36.000Z      Giveaway  \n",
       "2  2022-08-06T16:56:35.000Z  Appreciation  \n",
       "3  2022-08-06T16:56:35.000Z     Community  \n",
       "4  2022-08-06T16:56:34.000Z     Community  "
      ]
     },
     "execution_count": 8,
     "metadata": {},
     "output_type": "execute_result"
    }
   ],
   "source": [
    "data.head()"
   ]
  },
  {
   "cell_type": "code",
   "execution_count": 9,
   "id": "038c6984",
   "metadata": {},
   "outputs": [
    {
     "name": "stdout",
     "output_type": "stream",
     "text": [
      "<class 'pandas.core.frame.DataFrame'>\n",
      "Int64Index: 96364 entries, 0 to 96363\n",
      "Data columns (total 4 columns):\n",
      " #   Column            Non-Null Count  Dtype \n",
      "---  ------            --------------  ----- \n",
      " 0   id                96364 non-null  int64 \n",
      " 1   tweet_text        96364 non-null  object\n",
      " 2   tweet_created_at  96364 non-null  object\n",
      " 3   tweet_intent      96364 non-null  object\n",
      "dtypes: int64(1), object(3)\n",
      "memory usage: 3.7+ MB\n"
     ]
    }
   ],
   "source": [
    "data.info()"
   ]
  },
  {
   "cell_type": "code",
   "execution_count": 10,
   "id": "6d3b4a15",
   "metadata": {},
   "outputs": [
    {
     "data": {
      "text/html": [
       "<div>\n",
       "<style scoped>\n",
       "    .dataframe tbody tr th:only-of-type {\n",
       "        vertical-align: middle;\n",
       "    }\n",
       "\n",
       "    .dataframe tbody tr th {\n",
       "        vertical-align: top;\n",
       "    }\n",
       "\n",
       "    .dataframe thead th {\n",
       "        text-align: right;\n",
       "    }\n",
       "</style>\n",
       "<table border=\"1\" class=\"dataframe\">\n",
       "  <thead>\n",
       "    <tr style=\"text-align: right;\">\n",
       "      <th></th>\n",
       "      <th>id</th>\n",
       "      <th>tweet_text</th>\n",
       "      <th>tweet_created_at</th>\n",
       "      <th>tweet_intent</th>\n",
       "    </tr>\n",
       "  </thead>\n",
       "  <tbody>\n",
       "    <tr>\n",
       "      <th>96359</th>\n",
       "      <td>1424490</td>\n",
       "      <td>@nft_cryptogang @liuyan93721534 0x9fE808D8a9E2...</td>\n",
       "      <td>2022-08-11T23:11:58.000Z</td>\n",
       "      <td>Appreciation</td>\n",
       "    </tr>\n",
       "    <tr>\n",
       "      <th>96360</th>\n",
       "      <td>1424491</td>\n",
       "      <td>Just registered to win @cryptopunksnfts #1859 ...</td>\n",
       "      <td>2022-08-11T23:11:58.000Z</td>\n",
       "      <td>Presale</td>\n",
       "    </tr>\n",
       "    <tr>\n",
       "      <th>96361</th>\n",
       "      <td>1424494</td>\n",
       "      <td>@SolSniffer Dyor on the nft collection \"Dictat...</td>\n",
       "      <td>2022-08-11T23:11:58.000Z</td>\n",
       "      <td>Appreciation</td>\n",
       "    </tr>\n",
       "    <tr>\n",
       "      <th>96362</th>\n",
       "      <td>1424497</td>\n",
       "      <td>#NFT #NFTCommmunity #DeltaFlare\\nJoin me on Di...</td>\n",
       "      <td>2022-08-11T23:11:56.000Z</td>\n",
       "      <td>Community</td>\n",
       "    </tr>\n",
       "    <tr>\n",
       "      <th>96363</th>\n",
       "      <td>1424498</td>\n",
       "      <td>@DuckBathing @diozoth @elonmusk @richerd @John...</td>\n",
       "      <td>2022-08-11T23:11:56.000Z</td>\n",
       "      <td>Appreciation</td>\n",
       "    </tr>\n",
       "  </tbody>\n",
       "</table>\n",
       "</div>"
      ],
      "text/plain": [
       "            id                                         tweet_text  \\\n",
       "96359  1424490  @nft_cryptogang @liuyan93721534 0x9fE808D8a9E2...   \n",
       "96360  1424491  Just registered to win @cryptopunksnfts #1859 ...   \n",
       "96361  1424494  @SolSniffer Dyor on the nft collection \"Dictat...   \n",
       "96362  1424497  #NFT #NFTCommmunity #DeltaFlare\\nJoin me on Di...   \n",
       "96363  1424498  @DuckBathing @diozoth @elonmusk @richerd @John...   \n",
       "\n",
       "               tweet_created_at  tweet_intent  \n",
       "96359  2022-08-11T23:11:58.000Z  Appreciation  \n",
       "96360  2022-08-11T23:11:58.000Z       Presale  \n",
       "96361  2022-08-11T23:11:58.000Z  Appreciation  \n",
       "96362  2022-08-11T23:11:56.000Z     Community  \n",
       "96363  2022-08-11T23:11:56.000Z  Appreciation  "
      ]
     },
     "execution_count": 10,
     "metadata": {},
     "output_type": "execute_result"
    }
   ],
   "source": [
    "data.tail()"
   ]
  },
  {
   "cell_type": "code",
   "execution_count": 11,
   "id": "accc349a",
   "metadata": {},
   "outputs": [
    {
     "data": {
      "text/plain": [
       "array(['Community', 'Giveaway', 'Appreciation', 'Presale', 'Whitelist',\n",
       "       'pinksale', 'Done', 'Interested', 'Launching Soon'], dtype=object)"
      ]
     },
     "execution_count": 11,
     "metadata": {},
     "output_type": "execute_result"
    }
   ],
   "source": [
    "data['tweet_intent'].unique()"
   ]
  },
  {
   "cell_type": "code",
   "execution_count": 12,
   "id": "8ab19203",
   "metadata": {},
   "outputs": [],
   "source": [
    "import seaborn as sns"
   ]
  },
  {
   "cell_type": "code",
   "execution_count": 13,
   "id": "dc16b3e5",
   "metadata": {},
   "outputs": [
    {
     "data": {
      "image/png": "[encoded data removed]",
      "text/plain": [
       "<Figure size 432x288 with 1 Axes>"
      ]
     },
     "metadata": {
      "needs_background": "light"
     },
     "output_type": "display_data"
    }
   ],
   "source": [
    "sns.countplot(data['tweet_intent'])\n",
    "plt.show()\n",
    "#shows majority are community tweets, then giveaway then appreciation\n",
    "#Also imbalanced dataset"
   ]
  },
  {
   "cell_type": "code",
   "execution_count": 14,
   "id": "09d44e8a",
   "metadata": {},
   "outputs": [
    {
     "data": {
      "text/plain": [
       "Text(0.5, 1.0, 'Tweet')"
      ]
     },
     "execution_count": 14,
     "metadata": {},
     "output_type": "execute_result"
    },
    {
     "data": {
      "image/png": "[encoded data removed]",
      "text/plain": [
       "<Figure size 432x288 with 1 Axes>"
      ]
     },
     "metadata": {},
     "output_type": "display_data"
    }
   ],
   "source": [
    "colors = ['#006400','#008000','#00FF00','#2E8B57','#2F4F4F']\n",
    "plt.pie(data['tweet_intent'].value_counts().values,labels = data['tweet_intent'].value_counts().index,\n",
    "        colors = colors)\n",
    "plt.title('Tweet')"
   ]
  },
  {
   "cell_type": "code",
   "execution_count": 15,
   "id": "7a8202da",
   "metadata": {},
   "outputs": [],
   "source": [
    "from sklearn.linear_model import LogisticRegression\n",
    "from sklearn.feature_extraction.text import TfidfVectorizer\n",
    "\n",
    "tvec = TfidfVectorizer(stop_words=None, max_features=100000, ngram_range=(1, 3))\n",
    "lr = LogisticRegression()"
   ]
  },
  {
   "cell_type": "code",
   "execution_count": 16,
   "id": "90af1fef",
   "metadata": {},
   "outputs": [],
   "source": [
    "from sklearn.model_selection import StratifiedKFold\n",
    "from sklearn.metrics import precision_score, recall_score, f1_score\n",
    "\n",
    "def lr_cv(splits, X, Y, pipeline, average_method):\n",
    "    \n",
    "    kfold = StratifiedKFold(n_splits=splits, shuffle=True, random_state=777)\n",
    "    accuracy = []\n",
    "    precision = []\n",
    "    recall = []\n",
    "    f1 = []\n",
    "    for train, test in kfold.split(X, Y):\n",
    "        lr_fit = pipeline.fit(X[train], Y[train])\n",
    "        prediction = lr_fit.predict(X[test])\n",
    "        scores = lr_fit.score(X[test],Y[test])\n",
    "        \n",
    "        accuracy.append(scores * 100)\n",
    "        precision.append(precision_score(Y[test], prediction, average=average_method)*100)\n",
    "        print('              negative    neutral     positive')\n",
    "        print('precision:',precision_score(Y[test], prediction, average=None))\n",
    "        recall.append(recall_score(Y[test], prediction, average=average_method)*100)\n",
    "        print('recall:   ',recall_score(Y[test], prediction, average=None))\n",
    "        \n",
    "        f1.append(f1_score(Y[test], prediction, average=average_method)*100)\n",
    "        print('f1 score: ',f1_score(Y[test], prediction, average=None))\n",
    "        print('-'*50)\n",
    "\n",
    "    print(\"accuracy: %.2f%% (+/- %.2f%%)\" % (np.mean(accuracy), np.std(accuracy)))\n",
    "    print(\"precision: %.2f%% (+/- %.2f%%)\" % (np.mean(precision), np.std(precision)))\n",
    "    print(\"recall: %.2f%% (+/- %.2f%%)\" % (np.mean(recall), np.std(recall)))\n",
    "    print(\"f1 score: %.2f%% (+/- %.2f%%)\" % (np.mean(f1), np.std(f1)))\n",
    "    \n",
    "    #done tokenization #NLTK to preprocess the tweets #"
   ]
  },
  {
   "cell_type": "code",
   "execution_count": 17,
   "id": "328cc1e4",
   "metadata": {},
   "outputs": [],
   "source": [
    "from nltk.tokenize import TweetTokenizer\n",
    "import re\n",
    "from nltk.corpus import stopwords\n",
    "from nltk.stem import LancasterStemmer\n",
    "from nltk.stem import WordNetLemmatizer\n",
    "from nltk.corpus import wordnet\n",
    "import nltk"
   ]
  },
  {
   "cell_type": "code",
   "execution_count": 18,
   "id": "ce2fff3e",
   "metadata": {},
   "outputs": [],
   "source": [
    "def clean_tweet(tweet):\n",
    "    return ''.join(re.sub(r\"(@[A-Za-z0-9]+)|(http\\S+)|(#[A-Za-z0-9]+)|(\\$[A-Za-z0-9]+)|(RT)|([0-9]+)\",\"\",tweet))\n",
    "def remove_special_chars(tweets):  # it unrolls the hashtags to normal words\n",
    "    for remove in map(lambda r: re.compile(re.escape(r)), [\",\", \":\", \"\\\"\", \"=\", \"&\", \";\", \"%\", \"$\",\n",
    "                                                                     \"@\", \"%\", \"^\", \"*\", \"(\", \")\", \"{\", \"}\",\n",
    "                                                                     \"[\", \"]\", \"|\", \"/\", \"\\\\\", \">\", \"<\", \"-\",\n",
    "                                                                     \"!\", \"?\", \".\", \"'\",\n",
    "                                                                     \"--\", \"---\", \"#\"]):\n",
    "        tweets.replace(remove, \"\", inplace=True)\n",
    "    return tweets\n",
    "lem=WordNetLemmatizer()\n",
    "tkn=TweetTokenizer()\n",
    "ps=LancasterStemmer()\n",
    "pd.options.display.max_colwidth=1000"
   ]
  },
  {
   "cell_type": "code",
   "execution_count": 19,
   "id": "5cd2ed74",
   "metadata": {},
   "outputs": [],
   "source": [
    "def filter_tweet(tweet):\n",
    "    filtered=[]\n",
    "    for w in tweet:\n",
    "        if w.lower() not in stopwords.words('english'):\n",
    "            filtered.append(w)\n",
    "    return filtered"
   ]
  },
  {
   "cell_type": "code",
   "execution_count": 20,
   "id": "c494f67d",
   "metadata": {},
   "outputs": [],
   "source": [
    "def get_pos(word):\n",
    "    tag=nltk.pos_tag([word])[0][1][0]\n",
    "    if tag =='J':\n",
    "        return wordnet.ADJ\n",
    "    elif tag =='V':\n",
    "        return wordnet.VERB\n",
    "    elif tag =='N':\n",
    "        return wordnet.NOUN\n",
    "    elif tag =='R':\n",
    "        return wordnet.ADV\n",
    "    else:\n",
    "        return wordnet.NOUN"
   ]
  },
  {
   "cell_type": "code",
   "execution_count": 21,
   "id": "15944bf8",
   "metadata": {},
   "outputs": [
    {
     "data": {
      "text/html": [
       "<div>\n",
       "<style scoped>\n",
       "    .dataframe tbody tr th:only-of-type {\n",
       "        vertical-align: middle;\n",
       "    }\n",
       "\n",
       "    .dataframe tbody tr th {\n",
       "        vertical-align: top;\n",
       "    }\n",
       "\n",
       "    .dataframe thead th {\n",
       "        text-align: right;\n",
       "    }\n",
       "</style>\n",
       "<table border=\"1\" class=\"dataframe\">\n",
       "  <thead>\n",
       "    <tr style=\"text-align: right;\">\n",
       "      <th></th>\n",
       "      <th>id</th>\n",
       "      <th>tweet_text</th>\n",
       "      <th>tweet_created_at</th>\n",
       "      <th>tweet_intent</th>\n",
       "      <th>cleantweet</th>\n",
       "    </tr>\n",
       "  </thead>\n",
       "  <tbody>\n",
       "    <tr>\n",
       "      <th>0</th>\n",
       "      <td>1212762</td>\n",
       "      <td>@crypto_brody @eCoLoGy1990 @MoonrunnersNFT @ItsukiNFT @thelittlesnft @SpaceRiders_NFT @WDoopsies @WomenandWeapons @WoWPixiesNFT @BokiNFT @quirkiesnft @bitcoin_bowie @Kal_El_Krypto_ @sophiegreen86 ðŸ¶ A new cryptocurrency was born by fans of the Chihuahua meme community. It's just simply pets love and keep 1% from each transaction which will be automatically distributed. \\nâ€¼ï¸CA: 0x2fd6c9B869Dea106730269E13113361b684f843a\\n @Chihuahua_bsc\\nTG: https://t.co/wqSzCivfaM</td>\n",
       "      <td>2022-08-06T16:56:36.000Z</td>\n",
       "      <td>Community</td>\n",
       "      <td>_brody     _NFT      _bowie _El_Krypto_  ðŸ¶ A new cryptocurrency was born by fans of the Chihuahua meme community Its just simply pets love and keep  from each transaction which will be automatically distributed \\nâ€¼ï¸CA xfdcBDeaEbfa\\n _bsc\\nTG</td>\n",
       "    </tr>\n",
       "    <tr>\n",
       "      <th>1</th>\n",
       "      <td>1212763</td>\n",
       "      <td>Need Sick Character artâ“#art #artist #Artists #animation #illustrators #illustrations #illustrationart #NFT #NFTGiveaways #3Danimation #3dart #conceptart #Concept #illustrators #SolanaNFTs #ArtistOnTwitter @ScrimFinder @BlazedRTs @SGH_RTs @smallstreamhype @ShoutGamers https://t.co/Nf3Egckt78</td>\n",
       "      <td>2022-08-06T16:56:36.000Z</td>\n",
       "      <td>Giveaway</td>\n",
       "      <td>Need Sick Character artâ“                  _s</td>\n",
       "    </tr>\n",
       "    <tr>\n",
       "      <th>2</th>\n",
       "      <td>1212765</td>\n",
       "      <td>@The_Hulk_NFT @INagotchiNFT @Tesla @killabearsnft @elonmusk Great choice on a Tesla! Good luck!</td>\n",
       "      <td>2022-08-06T16:56:35.000Z</td>\n",
       "      <td>Appreciation</td>\n",
       "      <td>_Hulk_NFT     Great choice on a Tesla Good luck</td>\n",
       "    </tr>\n",
       "    <tr>\n",
       "      <th>3</th>\n",
       "      <td>1212766</td>\n",
       "      <td>@CryptoBatzNFT @DarekBTW The first project in crypto with move to earn  #AstroBirdz. Big things happening with this project with release of marketplace and  #NEST.\\n#FeedToEarn . \\n #birdzarmy \\n #luna #BTC #web3 #gem\\n #NFT #NFTCommunity \\n https://t.co/cU23XoROMR https://t.co/qUvOj4YSYP</td>\n",
       "      <td>2022-08-06T16:56:35.000Z</td>\n",
       "      <td>Community</td>\n",
       "      <td>The first project in crypto with move to earn   Big things happening with this project with release of marketplace and  \\n  \\n  \\n    \\n   \\n</td>\n",
       "    </tr>\n",
       "    <tr>\n",
       "      <th>4</th>\n",
       "      <td>1212767</td>\n",
       "      <td>@sashadysonn The first project in crypto with move to earn  #AstroBirdz. Big things happening with this project with release of marketplace and  #NEST.\\n#FeedToEarn . \\n #birdzarmy \\n #luna #BTC #web3 #gem\\n #NFT #NFTCommunity \\n https://t.co/IakfZgYXow https://t.co/a2p0nKxlfd</td>\n",
       "      <td>2022-08-06T16:56:34.000Z</td>\n",
       "      <td>Community</td>\n",
       "      <td>The first project in crypto with move to earn   Big things happening with this project with release of marketplace and  \\n  \\n  \\n    \\n   \\n</td>\n",
       "    </tr>\n",
       "  </tbody>\n",
       "</table>\n",
       "</div>"
      ],
      "text/plain": [
       "        id  \\\n",
       "0  1212762   \n",
       "1  1212763   \n",
       "2  1212765   \n",
       "3  1212766   \n",
       "4  1212767   \n",
       "\n",
       "                                                                                                                                                                                                                                                                                                                                                                                                                                                                                   tweet_text  \\\n",
       "0  @crypto_brody @eCoLoGy1990 @MoonrunnersNFT @ItsukiNFT @thelittlesnft @SpaceRiders_NFT @WDoopsies @WomenandWeapons @WoWPixiesNFT @BokiNFT @quirkiesnft @bitcoin_bowie @Kal_El_Krypto_ @sophiegreen86 ðŸ¶ A new cryptocurrency was born by fans of the Chihuahua meme community. It's just simply pets love and keep 1% from each transaction which will be automatically distributed. \\nâ€¼ï¸CA: 0x2fd6c9B869Dea106730269E13113361b684f843a\\n @Chihuahua_bsc\\nTG: https://t.co/wqSzCivfaM   \n",
       "1                                                                                                                                                                                      Need Sick Character artâ“#art #artist #Artists #animation #illustrators #illustrations #illustrationart #NFT #NFTGiveaways #3Danimation #3dart #conceptart #Concept #illustrators #SolanaNFTs #ArtistOnTwitter @ScrimFinder @BlazedRTs @SGH_RTs @smallstreamhype @ShoutGamers https://t.co/Nf3Egckt78   \n",
       "2                                                                                                                                                                                                                                                                                                                                                                                             @The_Hulk_NFT @INagotchiNFT @Tesla @killabearsnft @elonmusk Great choice on a Tesla! Good luck!   \n",
       "3                                                                                                                                                                                           @CryptoBatzNFT @DarekBTW The first project in crypto with move to earn  #AstroBirdz. Big things happening with this project with release of marketplace and  #NEST.\\n#FeedToEarn . \\n #birdzarmy \\n #luna #BTC #web3 #gem\\n #NFT #NFTCommunity \\n https://t.co/cU23XoROMR https://t.co/qUvOj4YSYP   \n",
       "4                                                                                                                                                                                                       @sashadysonn The first project in crypto with move to earn  #AstroBirdz. Big things happening with this project with release of marketplace and  #NEST.\\n#FeedToEarn . \\n #birdzarmy \\n #luna #BTC #web3 #gem\\n #NFT #NFTCommunity \\n https://t.co/IakfZgYXow https://t.co/a2p0nKxlfd   \n",
       "\n",
       "           tweet_created_at  tweet_intent  \\\n",
       "0  2022-08-06T16:56:36.000Z     Community   \n",
       "1  2022-08-06T16:56:36.000Z      Giveaway   \n",
       "2  2022-08-06T16:56:35.000Z  Appreciation   \n",
       "3  2022-08-06T16:56:35.000Z     Community   \n",
       "4  2022-08-06T16:56:34.000Z     Community   \n",
       "\n",
       "                                                                                                                                                                                                                                                  cleantweet  \n",
       "0  _brody     _NFT      _bowie _El_Krypto_  ðŸ¶ A new cryptocurrency was born by fans of the Chihuahua meme community Its just simply pets love and keep  from each transaction which will be automatically distributed \\nâ€¼ï¸CA xfdcBDeaEbfa\\n _bsc\\nTG   \n",
       "1                                                                                                                                                                                                          Need Sick Character artâ“                  _s     \n",
       "2                                                                                                                                                                                                            _Hulk_NFT     Great choice on a Tesla Good luck  \n",
       "3                                                                                                            The first project in crypto with move to earn   Big things happening with this project with release of marketplace and  \\n  \\n  \\n    \\n   \\n    \n",
       "4                                                                                                            The first project in crypto with move to earn   Big things happening with this project with release of marketplace and  \\n  \\n  \\n    \\n   \\n    "
      ]
     },
     "execution_count": 21,
     "metadata": {},
     "output_type": "execute_result"
    }
   ],
   "source": [
    "data['cleantweet']=data['tweet_text'].apply(lambda row: clean_tweet(row))\n",
    "remove_special_chars(data.cleantweet)\n",
    "data.head()"
   ]
  },
  {
   "cell_type": "code",
   "execution_count": 22,
   "id": "9b4267ed",
   "metadata": {},
   "outputs": [],
   "source": [
    "data['tokenized_text'] = data.apply(lambda row : tkn.tokenize(row['cleantweet']), axis=1)\n",
    "\n",
    "\n",
    "data['filteredsent'] = data['tokenized_text']#.apply(lambda row : filter_tweet(row))\n",
    "\n",
    "\n",
    "#data['Lemmatized']=data.apply(lambda row :[lem.lemmatize(i,pos=get_pos(i)) for i in row['filteredsent']],axis=1)\n",
    "\n",
    "\n",
    "data['stemwords'] = data.apply(lambda row : [ps.stem(i) for i in row['filteredsent']],axis=1)"
   ]
  },
  {
   "cell_type": "code",
   "execution_count": 23,
   "id": "ba97f987",
   "metadata": {
    "scrolled": true
   },
   "outputs": [
    {
     "data": {
      "text/html": [
       "<div>\n",
       "<style scoped>\n",
       "    .dataframe tbody tr th:only-of-type {\n",
       "        vertical-align: middle;\n",
       "    }\n",
       "\n",
       "    .dataframe tbody tr th {\n",
       "        vertical-align: top;\n",
       "    }\n",
       "\n",
       "    .dataframe thead th {\n",
       "        text-align: right;\n",
       "    }\n",
       "</style>\n",
       "<table border=\"1\" class=\"dataframe\">\n",
       "  <thead>\n",
       "    <tr style=\"text-align: right;\">\n",
       "      <th></th>\n",
       "      <th>id</th>\n",
       "      <th>tweet_text</th>\n",
       "      <th>tweet_created_at</th>\n",
       "      <th>tweet_intent</th>\n",
       "      <th>cleantweet</th>\n",
       "      <th>tokenized_text</th>\n",
       "      <th>filteredsent</th>\n",
       "      <th>stemwords</th>\n",
       "    </tr>\n",
       "  </thead>\n",
       "  <tbody>\n",
       "    <tr>\n",
       "      <th>96359</th>\n",
       "      <td>1424490</td>\n",
       "      <td>@nft_cryptogang @liuyan93721534 0x9fE808D8a9E2e341ea30a8d5aC1E301C32b779fc\\n\\nThanks a lot</td>\n",
       "      <td>2022-08-11T23:11:58.000Z</td>\n",
       "      <td>Appreciation</td>\n",
       "      <td>_cryptogang  xfEDaEeeaadaCECbfc\\n\\nThanks a lot</td>\n",
       "      <td>[_cryptogang, xfEDaEeeaadaCECbfc, Thanks, a, lot]</td>\n",
       "      <td>[_cryptogang, xfEDaEeeaadaCECbfc, Thanks, a, lot]</td>\n",
       "      <td>[_cryptogang, xfedaeeeaadacecbfc, thank, a, lot]</td>\n",
       "    </tr>\n",
       "    <tr>\n",
       "      <th>96360</th>\n",
       "      <td>1424491</td>\n",
       "      <td>Just registered to win @cryptopunksnfts #1859 with @blokpax - Let's go! #freemint via @PREMINT_NFT https://t.co/h5hhuQLOu0</td>\n",
       "      <td>2022-08-11T23:11:58.000Z</td>\n",
       "      <td>Presale</td>\n",
       "      <td>Just registered to win   with   Lets go  via _NFT</td>\n",
       "      <td>[Just, registered, to, win, with, Lets, go, via, _NFT]</td>\n",
       "      <td>[Just, registered, to, win, with, Lets, go, via, _NFT]</td>\n",
       "      <td>[just, reg, to, win, with, let, go, via, _nft]</td>\n",
       "    </tr>\n",
       "    <tr>\n",
       "      <th>96361</th>\n",
       "      <td>1424494</td>\n",
       "      <td>@SolSniffer Dyor on the nft collection \"Dictators\" they're builders and they just started \\nyep im invested in it thats why i shilled it but thats a good occasion for whoever dyor properly and don't want quick money.\\nSee ya in september when they gonna be 7+ sol floor price ;)</td>\n",
       "      <td>2022-08-11T23:11:58.000Z</td>\n",
       "      <td>Appreciation</td>\n",
       "      <td>Dyor on the nft collection Dictators theyre builders and they just started \\nyep im invested in it thats why i shilled it but thats a good occasion for whoever dyor properly and dont want quick money\\nSee ya in september when they gonna be + sol floor price</td>\n",
       "      <td>[Dyor, on, the, nft, collection, Dictators, theyre, builders, and, they, just, started, yep, im, invested, in, it, thats, why, i, shilled, it, but, thats, a, good, occasion, for, whoever, dyor, properly, and, dont, want, quick, money, See, ya, in, september, when, they, gonna, be, +, sol, floor, price]</td>\n",
       "      <td>[Dyor, on, the, nft, collection, Dictators, theyre, builders, and, they, just, started, yep, im, invested, in, it, thats, why, i, shilled, it, but, thats, a, good, occasion, for, whoever, dyor, properly, and, dont, want, quick, money, See, ya, in, september, when, they, gonna, be, +, sol, floor, price]</td>\n",
       "      <td>[dyor, on, the, nft, collect, dict, theyr, build, and, they, just, start, yep, im, invest, in, it, that, why, i, shil, it, but, that, a, good, occas, for, whoev, dyor, prop, and, dont, want, quick, money, see, ya, in, septemb, when, they, gonn, be, +, sol, flo, pric]</td>\n",
       "    </tr>\n",
       "    <tr>\n",
       "      <th>96362</th>\n",
       "      <td>1424497</td>\n",
       "      <td>#NFT #NFTCommmunity #DeltaFlare\\nJoin me on Discord: https://t.co/EOVYbmfb9V\\nJoin me on Telegram: https://t.co/yQNUqaZDLT\\n6 days, 15:18:02.527272\\nhttps://t.co/aDhKemdTtD</td>\n",
       "      <td>2022-08-11T23:11:56.000Z</td>\n",
       "      <td>Community</td>\n",
       "      <td>\\nJoin me on Discord \\nJoin me on Telegram \\n days \\n</td>\n",
       "      <td>[Join, me, on, Discord, Join, me, on, Telegram, days]</td>\n",
       "      <td>[Join, me, on, Discord, Join, me, on, Telegram, days]</td>\n",
       "      <td>[join, me, on, discord, join, me, on, telegram, day]</td>\n",
       "    </tr>\n",
       "    <tr>\n",
       "      <th>96363</th>\n",
       "      <td>1424498</td>\n",
       "      <td>@DuckBathing @diozoth @elonmusk @richerd @John_NFT2 @NFTKingForever @nft_finley @cryptoBILLnfts @Cams_eth nice</td>\n",
       "      <td>2022-08-11T23:11:56.000Z</td>\n",
       "      <td>Appreciation</td>\n",
       "      <td>_NFT  _finley  _eth nice</td>\n",
       "      <td>[_NFT, _finley, _eth, nice]</td>\n",
       "      <td>[_NFT, _finley, _eth, nice]</td>\n",
       "      <td>[_nft, _finley, _eth, nic]</td>\n",
       "    </tr>\n",
       "  </tbody>\n",
       "</table>\n",
       "</div>"
      ],
      "text/plain": [
       "            id  \\\n",
       "96359  1424490   \n",
       "96360  1424491   \n",
       "96361  1424494   \n",
       "96362  1424497   \n",
       "96363  1424498   \n",
       "\n",
       "                                                                                                                                                                                                                                                                                   tweet_text  \\\n",
       "96359                                                                                                                                                                                              @nft_cryptogang @liuyan93721534 0x9fE808D8a9E2e341ea30a8d5aC1E301C32b779fc\\n\\nThanks a lot   \n",
       "96360                                                                                                                                                              Just registered to win @cryptopunksnfts #1859 with @blokpax - Let's go! #freemint via @PREMINT_NFT https://t.co/h5hhuQLOu0   \n",
       "96361  @SolSniffer Dyor on the nft collection \"Dictators\" they're builders and they just started \\nyep im invested in it thats why i shilled it but thats a good occasion for whoever dyor properly and don't want quick money.\\nSee ya in september when they gonna be 7+ sol floor price ;)   \n",
       "96362                                                                                                            #NFT #NFTCommmunity #DeltaFlare\\nJoin me on Discord: https://t.co/EOVYbmfb9V\\nJoin me on Telegram: https://t.co/yQNUqaZDLT\\n6 days, 15:18:02.527272\\nhttps://t.co/aDhKemdTtD   \n",
       "96363                                                                                                                                                                          @DuckBathing @diozoth @elonmusk @richerd @John_NFT2 @NFTKingForever @nft_finley @cryptoBILLnfts @Cams_eth nice   \n",
       "\n",
       "               tweet_created_at  tweet_intent  \\\n",
       "96359  2022-08-11T23:11:58.000Z  Appreciation   \n",
       "96360  2022-08-11T23:11:58.000Z       Presale   \n",
       "96361  2022-08-11T23:11:58.000Z  Appreciation   \n",
       "96362  2022-08-11T23:11:56.000Z     Community   \n",
       "96363  2022-08-11T23:11:56.000Z  Appreciation   \n",
       "\n",
       "                                                                                                                                                                                                                                                                cleantweet  \\\n",
       "96359                                                                                                                                                                                                                      _cryptogang  xfEDaEeeaadaCECbfc\\n\\nThanks a lot   \n",
       "96360                                                                                                                                                                                                                   Just registered to win   with   Lets go  via _NFT    \n",
       "96361   Dyor on the nft collection Dictators theyre builders and they just started \\nyep im invested in it thats why i shilled it but thats a good occasion for whoever dyor properly and dont want quick money\\nSee ya in september when they gonna be + sol floor price    \n",
       "96362                                                                                                                                                                                                                \\nJoin me on Discord \\nJoin me on Telegram \\n days \\n   \n",
       "96363                                                                                                                                                                                                                                             _NFT  _finley  _eth nice   \n",
       "\n",
       "                                                                                                                                                                                                                                                                                                        tokenized_text  \\\n",
       "96359                                                                                                                                                                                                                                                                [_cryptogang, xfEDaEeeaadaCECbfc, Thanks, a, lot]   \n",
       "96360                                                                                                                                                                                                                                                           [Just, registered, to, win, with, Lets, go, via, _NFT]   \n",
       "96361  [Dyor, on, the, nft, collection, Dictators, theyre, builders, and, they, just, started, yep, im, invested, in, it, thats, why, i, shilled, it, but, thats, a, good, occasion, for, whoever, dyor, properly, and, dont, want, quick, money, See, ya, in, september, when, they, gonna, be, +, sol, floor, price]   \n",
       "96362                                                                                                                                                                                                                                                            [Join, me, on, Discord, Join, me, on, Telegram, days]   \n",
       "96363                                                                                                                                                                                                                                                                                      [_NFT, _finley, _eth, nice]   \n",
       "\n",
       "                                                                                                                                                                                                                                                                                                          filteredsent  \\\n",
       "96359                                                                                                                                                                                                                                                                [_cryptogang, xfEDaEeeaadaCECbfc, Thanks, a, lot]   \n",
       "96360                                                                                                                                                                                                                                                           [Just, registered, to, win, with, Lets, go, via, _NFT]   \n",
       "96361  [Dyor, on, the, nft, collection, Dictators, theyre, builders, and, they, just, started, yep, im, invested, in, it, thats, why, i, shilled, it, but, thats, a, good, occasion, for, whoever, dyor, properly, and, dont, want, quick, money, See, ya, in, september, when, they, gonna, be, +, sol, floor, price]   \n",
       "96362                                                                                                                                                                                                                                                            [Join, me, on, Discord, Join, me, on, Telegram, days]   \n",
       "96363                                                                                                                                                                                                                                                                                      [_NFT, _finley, _eth, nice]   \n",
       "\n",
       "                                                                                                                                                                                                                                                                         stemwords  \n",
       "96359                                                                                                                                                                                                                             [_cryptogang, xfedaeeeaadacecbfc, thank, a, lot]  \n",
       "96360                                                                                                                                                                                                                               [just, reg, to, win, with, let, go, via, _nft]  \n",
       "96361  [dyor, on, the, nft, collect, dict, theyr, build, and, they, just, start, yep, im, invest, in, it, that, why, i, shil, it, but, that, a, good, occas, for, whoev, dyor, prop, and, dont, want, quick, money, see, ya, in, septemb, when, they, gonn, be, +, sol, flo, pric]  \n",
       "96362                                                                                                                                                                                                                         [join, me, on, discord, join, me, on, telegram, day]  \n",
       "96363                                                                                                                                                                                                                                                   [_nft, _finley, _eth, nic]  "
      ]
     },
     "execution_count": 23,
     "metadata": {},
     "output_type": "execute_result"
    }
   ],
   "source": [
    "data.tail()"
   ]
  },
  {
   "cell_type": "code",
   "execution_count": null,
   "id": "fbf3fe30",
   "metadata": {},
   "outputs": [],
   "source": [
    "from imblearn.pipeline import make_pipeline\n",
    "from imblearn.over_sampling import SMOTE\n",
    "SMOTE_pipeline = make_pipeline(tvec, SMOTE(random_state=777),lr)"
   ]
  },
  {
   "cell_type": "code",
   "execution_count": null,
   "id": "53294758",
   "metadata": {},
   "outputs": [],
   "source": [
    "lr_cv(5, data.tweet_text, data.tweet_intent, SMOTE_pipeline, 'macro')"
   ]
  }
 ],
 "metadata": {
  "kernelspec": {
   "display_name": "Python 3",
   "language": "python",
   "name": "python3"
  },
  "language_info": {
   "codemirror_mode": {
    "name": "ipython",
    "version": 3
   },
   "file_extension": ".py",
   "mimetype": "text/x-python",
   "name": "python",
   "nbconvert_exporter": "python",
   "pygments_lexer": "ipython3",
   "version": "3.9.4"
  }
 },
 "nbformat": 4,
 "nbformat_minor": 5
}
